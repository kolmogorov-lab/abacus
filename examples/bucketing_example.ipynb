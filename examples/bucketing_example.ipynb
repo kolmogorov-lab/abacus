{
 "cells": [
  {
   "cell_type": "markdown",
   "id": "3e95e1e9-17c5-41b0-927d-6f5bb9c3d0c5",
   "metadata": {},
   "source": [
    "# Bucketing\n",
    "\n",
    "This example notebook will show how bucketing can be applied to your experiment data."
   ]
  },
  {
   "cell_type": "code",
   "execution_count": null,
   "id": "f451ad53-d593-431b-8a48-c63e97235cac",
   "metadata": {},
   "outputs": [],
   "source": [
    "import warnings\n",
    "warnings.filterwarnings('ignore')\n",
    "warnings.simplefilter(action='ignore', category=[FutureWarning, DeprecationWarning])\n",
    "\n",
    "import sys\n",
    "import logging\n",
    "import numpy as np\n",
    "import pandas as pd\n",
    "\n",
    "from abacus.auto_ab.abtest import ABTest\n",
    "from abacus.auto_ab.params import ABTestParams, DataParams, HypothesisParams\n",
    "\n",
    "logging.basicConfig(level = logging.INFO)\n",
    "\n",
    "%load_ext autoreload\n",
    "%autoreload 2"
   ]
  },
  {
   "cell_type": "code",
   "execution_count": null,
   "id": "ea751f60-6e2d-473c-9f52-5640f46125e1",
   "metadata": {},
   "outputs": [],
   "source": [
    "df = pd.read_csv('./data/ab_data_height.csv')\n",
    "df.head()"
   ]
  },
  {
   "cell_type": "code",
   "execution_count": null,
   "id": "d264dba7-9df4-4c44-b7b5-686d6d6ee06e",
   "metadata": {},
   "outputs": [],
   "source": [
    "data_params = DataParams(\n",
    "    id_col='id', \n",
    "    group_col='groups', \n",
    "    target='height_now', \n",
    "    is_grouped=True\n",
    ")\n",
    "\n",
    "hypothesis_params = HypothesisParams(\n",
    "    alpha=0.05, \n",
    "    beta=0.2, \n",
    "    alternative='greater', \n",
    "    metric_type='continuous', \n",
    "    metric_name='mean', \n",
    "    metric=np.mean, \n",
    "    metric_transform=np.sin,             # function transformation in order to make data a bit weird\n",
    "    n_buckets=2000,                      # set number of buckets\n",
    ")\n",
    "\n",
    "ab_params = ABTestParams(data_params, hypothesis_params)"
   ]
  },
  {
   "cell_type": "code",
   "execution_count": null,
   "id": "270403a7-2fc9-4132-98d3-a9d0166b8707",
   "metadata": {},
   "outputs": [],
   "source": [
    "ab_test = ABTest(df, ab_params)\n",
    "ab_test = ab_test.metric_transform()\n",
    "\n",
    "ab_test.test_welch()"
   ]
  },
  {
   "cell_type": "code",
   "execution_count": null,
   "id": "2a26fa73-97f4-458b-9b6c-67a67db8f251",
   "metadata": {},
   "outputs": [],
   "source": [
    "ab_test.plot()"
   ]
  },
  {
   "cell_type": "code",
   "execution_count": null,
   "id": "e70d0cb5-dce3-4582-9570-4612c4572d23",
   "metadata": {},
   "outputs": [],
   "source": [
    "ab_test_1 = ab_test.bucketing()\n",
    "\n",
    "ab_test_1.test_welch()"
   ]
  },
  {
   "cell_type": "code",
   "execution_count": null,
   "id": "4316aa50-2ea2-4438-906c-63a3305de940",
   "metadata": {},
   "outputs": [],
   "source": [
    "ab_test_1.plot()"
   ]
  },
  {
   "cell_type": "markdown",
   "id": "f65f2518-c806-4e16-81f8-85eb5dc9f4e6",
   "metadata": {},
   "source": [
    "As can be seen, results are almost the same for bucketing and pre-bucketing versions, but with fewer observations.  \n",
    "But transformed version looks much more prettier and easier to interpret."
   ]
  }
 ],
 "metadata": {
  "kernelspec": {
   "display_name": "Python 3 (ipykernel)",
   "language": "python",
   "name": "python3"
  },
  "language_info": {
   "codemirror_mode": {
    "name": "ipython",
    "version": 3
   },
   "file_extension": ".py",
   "mimetype": "text/x-python",
   "name": "python",
   "nbconvert_exporter": "python",
   "pygments_lexer": "ipython3",
   "version": "3.11.4"
  }
 },
 "nbformat": 4,
 "nbformat_minor": 5
}
