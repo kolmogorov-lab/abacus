{
 "cells": [
  {
   "cell_type": "markdown",
   "id": "976991f7-dd23-4467-858f-f13d8552d63f",
   "metadata": {},
   "source": [
    "# Variance Reduction\n",
    "\n",
    "This example notebook will you show you one of the most popular approaches to variance reduction in A/B testing — CUPED (covariates using pre-experimental data)."
   ]
  },
  {
   "cell_type": "code",
   "execution_count": null,
   "id": "b5f3b76f-eef5-4a40-8dc7-6199414dc04d",
   "metadata": {},
   "outputs": [],
   "source": [
    "import warnings\n",
    "warnings.filterwarnings('ignore')\n",
    "warnings.simplefilter(action='ignore', category=[FutureWarning, DeprecationWarning])\n",
    "\n",
    "import sys\n",
    "import logging\n",
    "import numpy as np\n",
    "import pandas as pd\n",
    "\n",
    "from abacus.auto_ab.abtest import ABTest\n",
    "from abacus.auto_ab.params import ABTestParams, DataParams, HypothesisParams\n",
    "\n",
    "logging.basicConfig(level = logging.INFO)\n",
    "\n",
    "%load_ext autoreload\n",
    "%autoreload 2"
   ]
  },
  {
   "cell_type": "markdown",
   "id": "0e40d09c",
   "metadata": {},
   "source": [
    "## Variance reduction with no difference between groups"
   ]
  },
  {
   "cell_type": "code",
   "execution_count": null,
   "id": "e836c7f2",
   "metadata": {},
   "outputs": [],
   "source": [
    "df = pd.read_csv('./data/ab_data_height.csv')\n",
    "df.head()"
   ]
  },
  {
   "cell_type": "code",
   "execution_count": null,
   "id": "1f2c9480-8fdd-40e7-b731-8a4d5d1fbe27",
   "metadata": {},
   "outputs": [],
   "source": [
    "data_params = DataParams(\n",
    "    id_col='id', \n",
    "    group_col='groups',\n",
    "    control_name='A',\n",
    "    treatment_name='B',\n",
    "    target='height_now', \n",
    "    covariate='height_prev',    # provide covariate for CUPED\n",
    "    is_grouped=True\n",
    ")\n",
    "\n",
    "hypothesis_params = HypothesisParams(\n",
    "    alpha=0.05, \n",
    "    beta=0.2, \n",
    "    alternative='greater',  \n",
    "    metric_type='continuous', \n",
    "    metric_name='mean',\n",
    ")\n",
    "\n",
    "ab_params = ABTestParams(data_params, hypothesis_params)"
   ]
  },
  {
   "cell_type": "code",
   "execution_count": null,
   "id": "2d2d95b8",
   "metadata": {},
   "outputs": [],
   "source": [
    "ab_test = ABTest(df, ab_params)"
   ]
  },
  {
   "cell_type": "markdown",
   "id": "64e671b3-84a6-4c15-beae-97c8a0cd98c1",
   "metadata": {},
   "source": [
    "Mean and variance before variance reduction:"
   ]
  },
  {
   "cell_type": "code",
   "execution_count": null,
   "id": "757b23b5",
   "metadata": {},
   "outputs": [],
   "source": [
    "print('Control mean = {:.3f}'.format(np.mean(ab_test.params.data_params.control)))\n",
    "print('Treatment mean = {:.3f}'.format(np.mean(ab_test.params.data_params.treatment)))\n",
    "print('Control var = {:.3f}'.format(np.var(ab_test.params.data_params.control)))\n",
    "print('Treatment var = {:.3f}'.format(np.var(ab_test.params.data_params.treatment)))"
   ]
  },
  {
   "cell_type": "markdown",
   "id": "70afe04c-c03e-43b7-b22e-b818ca32df5d",
   "metadata": {},
   "source": [
    "Apply CUPED:"
   ]
  },
  {
   "cell_type": "code",
   "execution_count": null,
   "id": "039b9207",
   "metadata": {},
   "outputs": [],
   "source": [
    "ab_test1 = ab_test.cuped()"
   ]
  },
  {
   "cell_type": "markdown",
   "id": "601ceb17-2e01-46ef-92dc-54b10a98eb0e",
   "metadata": {},
   "source": [
    "Mean and variance after variance reduction:"
   ]
  },
  {
   "cell_type": "code",
   "execution_count": null,
   "id": "aef06c19",
   "metadata": {},
   "outputs": [],
   "source": [
    "print('Control mean = {:.3f}'.format(np.mean(ab_test1.params.data_params.control)))\n",
    "print('Treatment mean = {:.3f}'.format(np.mean(ab_test1.params.data_params.treatment)))\n",
    "print('Control var = {:.3f}'.format(np.var(ab_test1.params.data_params.control)))\n",
    "print('Treatment var = {:.3f}'.format(np.var(ab_test1.params.data_params.treatment)))"
   ]
  },
  {
   "cell_type": "markdown",
   "id": "d28fc491-ba1e-4cb5-92d0-7b05b18e33be",
   "metadata": {},
   "source": [
    "As can be seen, variance of experiment dataset decreased, although it does not mean that difference is detected:"
   ]
  },
  {
   "cell_type": "code",
   "execution_count": null,
   "id": "30cfa5bc",
   "metadata": {},
   "outputs": [],
   "source": [
    "print(f\"bootstrap_test: {ab_test.test_boot_confint()}\")\n",
    "print(f\"mannwhitney_test: {ab_test.test_mannwhitney()}\")\n",
    "print(f\"welch_test: {ab_test.test_welch()}\")"
   ]
  },
  {
   "cell_type": "code",
   "execution_count": null,
   "id": "79f87b7f-2b0e-4d13-978a-3005bf0729b4",
   "metadata": {},
   "outputs": [],
   "source": [
    "ab_test.plot()"
   ]
  },
  {
   "cell_type": "code",
   "execution_count": null,
   "id": "81cc979b",
   "metadata": {},
   "outputs": [],
   "source": [
    "ab_test1.plot()"
   ]
  },
  {
   "cell_type": "markdown",
   "id": "b2855382",
   "metadata": {},
   "source": [
    "## Variance reduction with differences between groups"
   ]
  },
  {
   "cell_type": "code",
   "execution_count": null,
   "id": "805fc2e4",
   "metadata": {},
   "outputs": [],
   "source": [
    "df = pd.read_csv('./data/ab_data_height.csv')\n",
    "\n",
    "# Increase values of one group\n",
    "incs = np.sort(np.random.uniform(0.0, 2, df.shape[0]))\n",
    "df['height_now'].where(df['groups'] == 'A',\n",
    "                                    df['height_now'] + incs, \n",
    "                                    axis=0,\n",
    "                                    inplace=True)"
   ]
  },
  {
   "cell_type": "code",
   "execution_count": null,
   "id": "933ec8c1-e77c-43a2-82e3-9fd9f026aed0",
   "metadata": {},
   "outputs": [],
   "source": [
    "df.head()"
   ]
  },
  {
   "cell_type": "code",
   "execution_count": null,
   "id": "3552cdb5-1e86-48ff-9e11-45cefc945852",
   "metadata": {},
   "outputs": [],
   "source": [
    "data_params = DataParams(\n",
    "    id_col='id', \n",
    "    group_col='groups',\n",
    "    control_name='A',\n",
    "    treatment_name='B',\n",
    "    target='height_now', \n",
    "    covariate='height_prev', \n",
    "    is_grouped=True\n",
    ")\n",
    "\n",
    "hypothesis_params = HypothesisParams(\n",
    "    alpha=0.05, \n",
    "    beta=0.2, \n",
    "    alternative='greater',  \n",
    "    metric_type='continuous', \n",
    "    metric_name='mean',\n",
    ")\n",
    "\n",
    "ab_params = ABTestParams(data_params, hypothesis_params)"
   ]
  },
  {
   "cell_type": "code",
   "execution_count": null,
   "id": "3ce8a302-7f72-4376-9791-f3bb49390ece",
   "metadata": {},
   "outputs": [],
   "source": [
    "ab_test = ABTest(df, ab_params)"
   ]
  },
  {
   "cell_type": "markdown",
   "id": "74faabca-393a-45cd-a9de-d2d6e76deef0",
   "metadata": {},
   "source": [
    "Mean and variance before variance reduction:"
   ]
  },
  {
   "cell_type": "code",
   "execution_count": null,
   "id": "28052067",
   "metadata": {},
   "outputs": [],
   "source": [
    "print('Control mean = {:.3f}'.format(np.mean(ab_test.params.data_params.control)))\n",
    "print('Treatment mean = {:.3f}'.format(np.mean(ab_test.params.data_params.treatment)))\n",
    "print('Control var = {:.3f}'.format(np.var(ab_test.params.data_params.control)))\n",
    "print('Treatment var = {:.3f}'.format(np.var(ab_test.params.data_params.treatment)))"
   ]
  },
  {
   "cell_type": "code",
   "execution_count": null,
   "id": "d305986f",
   "metadata": {},
   "outputs": [],
   "source": [
    "print(f\"bootstrap_test: {ab_test.test_boot_confint()}\")\n",
    "print(f\"mannwhitney_test: {ab_test.test_mannwhitney()}\")\n",
    "print(f\"welch_test: {ab_test.test_welch()}\")"
   ]
  },
  {
   "cell_type": "markdown",
   "id": "d464d4aa-68a2-4b0c-8264-1eb28d722278",
   "metadata": {},
   "source": [
    "Apply CUPED:"
   ]
  },
  {
   "cell_type": "code",
   "execution_count": null,
   "id": "8be5627a-aa08-4edb-b850-2e3bc7c234bb",
   "metadata": {},
   "outputs": [],
   "source": [
    "ab_test1 = ab_test.cuped()"
   ]
  },
  {
   "cell_type": "markdown",
   "id": "54c0a13d-da2d-477c-92e5-47bccc421d46",
   "metadata": {},
   "source": [
    "Mean and variance after variance reduction:"
   ]
  },
  {
   "cell_type": "code",
   "execution_count": null,
   "id": "a74f3c7a-0a89-4cc7-bf41-3ec6b9d1ec03",
   "metadata": {},
   "outputs": [],
   "source": [
    "print('Control mean = {:.3f}'.format(np.mean(ab_test1.params.data_params.control)))\n",
    "print('Treatment mean = {:.3f}'.format(np.mean(ab_test1.params.data_params.treatment)))\n",
    "print('Control var = {:.3f}'.format(np.var(ab_test1.params.data_params.control)))\n",
    "print('Treatment var = {:.3f}'.format(np.var(ab_test1.params.data_params.treatment)))"
   ]
  },
  {
   "cell_type": "markdown",
   "id": "3af5a0c8-5b06-4c16-93ba-2b58a8307f23",
   "metadata": {},
   "source": [
    "As can be seen, variance of experiment dataset decreased, and as there is a difference, we are able to detect it:"
   ]
  },
  {
   "cell_type": "code",
   "execution_count": null,
   "id": "b45d4b9f-85ff-47ea-a9b6-afff42d0ac0b",
   "metadata": {},
   "outputs": [],
   "source": [
    "print(f\"bootstrap_test: {ab_test.test_boot_confint()}\")\n",
    "print(f\"mannwhitney_test: {ab_test.test_mannwhitney()}\")\n",
    "print(f\"welch_test: {ab_test.test_welch()}\")"
   ]
  },
  {
   "cell_type": "code",
   "execution_count": null,
   "id": "052db804",
   "metadata": {},
   "outputs": [],
   "source": [
    "ab_test.plot()"
   ]
  },
  {
   "cell_type": "code",
   "execution_count": null,
   "id": "66bd2599-b310-4d4a-bc1c-5698f19d7851",
   "metadata": {},
   "outputs": [],
   "source": [
    "ab_test1.plot()"
   ]
  }
 ],
 "metadata": {
  "kernelspec": {
   "display_name": "Python 3 (ipykernel)",
   "language": "python",
   "name": "python3"
  },
  "language_info": {
   "codemirror_mode": {
    "name": "ipython",
    "version": 3
   },
   "file_extension": ".py",
   "mimetype": "text/x-python",
   "name": "python",
   "nbconvert_exporter": "python",
   "pygments_lexer": "ipython3",
   "version": "3.11.4"
  },
  "vscode": {
   "interpreter": {
    "hash": "626acd8304246c39c892b04a088b1f86fa4d1e9c8375290e6951e511351ad7f7"
   }
  }
 },
 "nbformat": 4,
 "nbformat_minor": 5
}
