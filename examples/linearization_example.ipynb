{
 "cells": [
  {
   "cell_type": "markdown",
   "id": "e867c061-ed90-45d4-9113-c296bd4375f4",
   "metadata": {},
   "source": [
    "# Linearization\n",
    "\n",
    "Linearization is an approach developed by [Yandex](https://www.researchgate.net/publication/322969314_Consistent_Transformation_of_Ratio_Metrics_for_Efficient_Online_Controlled_Experiments) that allows you to efficiently work with your ratio data.  \n",
    "This example notebook will show you how to apply linearization in ABacus."
   ]
  },
  {
   "cell_type": "code",
   "execution_count": null,
   "id": "18eeabcd-2692-4e27-b16c-1f2916d34fef",
   "metadata": {},
   "outputs": [],
   "source": [
    "import warnings\n",
    "warnings.filterwarnings('ignore')\n",
    "warnings.simplefilter(action='ignore', category=[FutureWarning, DeprecationWarning])\n",
    "\n",
    "import sys\n",
    "import logging\n",
    "import pandas as pd\n",
    "import numpy as np\n",
    "\n",
    "from abacus.auto_ab.abtest import ABTest, ABTestParams\n",
    "from abacus.auto_ab.params import DataParams, HypothesisParams\n",
    "\n",
    "logging.basicConfig(level = logging.INFO)\n",
    "\n",
    "%load_ext autoreload\n",
    "%autoreload 2"
   ]
  },
  {
   "cell_type": "code",
   "execution_count": null,
   "id": "182dce7c-f630-4585-af58-f5fb4decdd0a",
   "metadata": {},
   "outputs": [],
   "source": [
    "df = pd.read_csv('./data/ab_data_height.csv')\n",
    "df.head()"
   ]
  },
  {
   "cell_type": "code",
   "execution_count": null,
   "id": "0f954e18-a404-4274-a7b9-3e1e84443b06",
   "metadata": {},
   "outputs": [],
   "source": [
    "data_params = DataParams(\n",
    "    id_col='id', \n",
    "    group_col='groups', \n",
    "    control_name='A',\n",
    "    treatment_name='B',\n",
    "    numerator='numerator', \n",
    "    denominator='denominator', \n",
    "    covariate='height_prev',\n",
    "    is_grouped=False\n",
    ")\n",
    "\n",
    "hypothesis_params = HypothesisParams(\n",
    "    alpha=0.05, \n",
    "    beta=0.2, \n",
    "    alternative='greater', \n",
    "    metric_type='ratio', \n",
    "    metric_name='mean', \n",
    "    metric=np.mean, \n",
    ")\n",
    "\n",
    "ab_params = ABTestParams(data_params, hypothesis_params)"
   ]
  },
  {
   "cell_type": "code",
   "execution_count": null,
   "id": "5fd5ce8a-b376-48af-b987-1a346710c44c",
   "metadata": {},
   "outputs": [],
   "source": [
    "ab_test = ABTest(df, ab_params)\n",
    "ab_test_1 = ab_test.linearization()"
   ]
  },
  {
   "cell_type": "code",
   "execution_count": null,
   "id": "180543db-f59a-4939-a746-14393ab172c9",
   "metadata": {},
   "outputs": [],
   "source": [
    "ab_test_1.params.hypothesis_params.metric_type"
   ]
  },
  {
   "cell_type": "markdown",
   "id": "e40c02ad-38fb-4282-b853-13e8624d4016",
   "metadata": {},
   "source": [
    "As can be seen, after linearization metric type switched to 'continuous' and metric now is continuous.\n",
    "\n",
    "We can observe new column `target_linearized` in a dataset:"
   ]
  },
  {
   "cell_type": "code",
   "execution_count": null,
   "id": "f93faddc-ecc5-4376-ba90-e5c9f0d5bf12",
   "metadata": {},
   "outputs": [],
   "source": [
    "ab_test_1.dataset"
   ]
  },
  {
   "cell_type": "markdown",
   "id": "f095b092-0b66-4191-8320-bb2f8ff23e28",
   "metadata": {},
   "source": [
    "As we have now continuous metric instead of ratio, we can use any metric transformation, e.g. CUPED:"
   ]
  },
  {
   "cell_type": "code",
   "execution_count": null,
   "id": "49669577-4346-4806-8c07-ba26cd6a7b8a",
   "metadata": {},
   "outputs": [],
   "source": [
    "ab_test_2 = ab_test_1.cuped()\n",
    "ab_test_3 = ab_test_2.test_welch()"
   ]
  }
 ],
 "metadata": {
  "kernelspec": {
   "display_name": "Python 3 (ipykernel)",
   "language": "python",
   "name": "python3"
  },
  "language_info": {
   "codemirror_mode": {
    "name": "ipython",
    "version": 3
   },
   "file_extension": ".py",
   "mimetype": "text/x-python",
   "name": "python",
   "nbconvert_exporter": "python",
   "pygments_lexer": "ipython3",
   "version": "3.11.4"
  }
 },
 "nbformat": 4,
 "nbformat_minor": 5
}
